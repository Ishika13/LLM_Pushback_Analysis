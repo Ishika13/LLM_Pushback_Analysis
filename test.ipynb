{
 "cells": [
  {
   "cell_type": "code",
   "execution_count": 1,
   "metadata": {},
   "outputs": [
    {
     "name": "stderr",
     "output_type": "stream",
     "text": [
      "/home/kanandan/miniconda3/envs/pushback_env/lib/python3.11/site-packages/tqdm/auto.py:21: TqdmWarning: IProgress not found. Please update jupyter and ipywidgets. See https://ipywidgets.readthedocs.io/en/stable/user_install.html\n",
      "  from .autonotebook import tqdm as notebook_tqdm\n",
      "Loading checkpoint shards: 100%|██████████| 2/2 [00:01<00:00,  1.06it/s]\n",
      "Device set to use cuda:0\n"
     ]
    }
   ],
   "source": [
    "# Use a pipeline as a high-level helper\n",
    "from transformers import pipeline\n",
    "import torch\n",
    "\n",
    "messages = [\n",
    "    {\"role\": \"user\", \"content\": \"Who are you?\"},]\n",
    "ins = [messages,messages]\n",
    "pipe = pipeline(\"text-generation\", model=\"google/gemma-2-2b-it\",device_map=\"auto\",model_kwargs={\"torch_dtype\": torch.bfloat16})\n",
    "output = pipe(ins)"
   ]
  },
  {
   "cell_type": "code",
   "execution_count": 5,
   "metadata": {},
   "outputs": [
    {
     "data": {
      "text/plain": [
       "{'generated_text': [{'role': 'user', 'content': 'Who are you?'},\n",
       "  {'role': 'assistant',\n",
       "   'content': \"I am Gemma, an open-weights AI assistant. I'm a large language model, trained\"}]}"
      ]
     },
     "execution_count": 5,
     "metadata": {},
     "output_type": "execute_result"
    }
   ],
   "source": [
    "output[0][0][\"generated_text\"][\"\"]"
   ]
  },
  {
   "cell_type": "code",
   "execution_count": null,
   "metadata": {},
   "outputs": [],
   "source": [
    "# Use a pipeline as a high-level helper\n",
    "from transformers import pipeline\n",
    "import torch\n",
    "\n",
    "messages = [\n",
    "    {\"role\": \"user\", \"content\": \"Who are you?\"},]\n",
    "ins = [messages,messages]\n",
    "pipe1 = pipeline(\"text-generation\", model=\"google/gemma-2-2b-it\",device_map=\"auto\",model_kwargs={\"torch_dtype\": torch.bfloat16})\n",
    "output1 = pipe1(ins)"
   ]
  }
 ],
 "metadata": {
  "kernelspec": {
   "display_name": "pushback_env",
   "language": "python",
   "name": "python3"
  },
  "language_info": {
   "codemirror_mode": {
    "name": "ipython",
    "version": 3
   },
   "file_extension": ".py",
   "mimetype": "text/x-python",
   "name": "python",
   "nbconvert_exporter": "python",
   "pygments_lexer": "ipython3",
   "version": "3.11.11"
  }
 },
 "nbformat": 4,
 "nbformat_minor": 2
}
